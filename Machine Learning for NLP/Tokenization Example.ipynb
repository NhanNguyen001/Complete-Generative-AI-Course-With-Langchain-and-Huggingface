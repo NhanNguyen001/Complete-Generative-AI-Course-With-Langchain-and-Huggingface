{
 "cells": [
  {
   "cell_type": "code",
   "execution_count": 1,
   "metadata": {},
   "outputs": [],
   "source": [
    "# !pip install nltk"
   ]
  },
  {
   "cell_type": "code",
   "execution_count": 2,
   "metadata": {},
   "outputs": [
    {
     "name": "stdout",
     "output_type": "stream",
     "text": [
      "Hello Welcome, to Krish Naik's NLP tutorials.\n",
      "Please do watch the entire course! to become expert in NLP.\n",
      "\n"
     ]
    }
   ],
   "source": [
    "corpus = \"\"\"Hello Welcome, to Krish Naik's NLP tutorials.\n",
    "Please do watch the entire course! to become expert in NLP.\n",
    "\"\"\"\n",
    "\n",
    "print(corpus)"
   ]
  },
  {
   "cell_type": "code",
   "execution_count": 4,
   "metadata": {},
   "outputs": [],
   "source": [
    "## Tokenization\n",
    "## Sentence --> paragraphs\n",
    "from nltk.tokenize import sent_tokenize"
   ]
  },
  {
   "cell_type": "code",
   "execution_count": 7,
   "metadata": {},
   "outputs": [
    {
     "name": "stderr",
     "output_type": "stream",
     "text": [
      "[nltk_data] Downloading package punkt to E:\\nltk_data...\n",
      "[nltk_data]   Unzipping tokenizers\\punkt.zip.\n"
     ]
    },
    {
     "name": "stdout",
     "output_type": "stream",
     "text": [
      "NLTK data path: ['C:\\\\Users\\\\nhan/nltk_data', 'c:\\\\Users\\\\nhan\\\\anaconda3\\\\envs\\\\ai\\\\nltk_data', 'c:\\\\Users\\\\nhan\\\\anaconda3\\\\envs\\\\ai\\\\share\\\\nltk_data', 'c:\\\\Users\\\\nhan\\\\anaconda3\\\\envs\\\\ai\\\\lib\\\\nltk_data', 'C:\\\\Users\\\\nhan\\\\AppData\\\\Roaming\\\\nltk_data', 'C:\\\\nltk_data', 'D:\\\\nltk_data', 'E:\\\\nltk_data', 'D:\\\\nltk_data', 'E:\\\\nltk_data']\n",
      "Tokenization successful:\n",
      "['This', 'is', 'a', 'test', 'sentence', '.', 'Here', \"'s\", 'another', 'one', '!']\n"
     ]
    }
   ],
   "source": [
    "import nltk\n",
    "import os\n",
    "\n",
    "# Specify the download directory explicitly\n",
    "nltk_data_dir = r'E:\\nltk_data'\n",
    "os.makedirs(nltk_data_dir, exist_ok=True)\n",
    "\n",
    "# Download punkt to the specified directory\n",
    "nltk.download('punkt', download_dir=nltk_data_dir)\n",
    "\n",
    "# Add the download directory to NLTK's data path\n",
    "nltk.data.path.append(nltk_data_dir)\n",
    "\n",
    "# Print NLTK's data path for verification\n",
    "print(\"NLTK data path:\", nltk.data.path)\n",
    "\n",
    "# Test tokenization with error handling\n",
    "corpus = \"This is a test sentence. Here's another one!\"\n",
    "\n",
    "try:\n",
    "    tokens = nltk.word_tokenize(corpus)\n",
    "    print(\"Tokenization successful:\")\n",
    "    print(tokens)\n",
    "except LookupError as e:\n",
    "    print(\"LookupError occurred:\")\n",
    "    print(e)\n",
    "    print(\"\\nTry manually downloading 'punkt' from:\")\n",
    "    print(\"https://raw.githubusercontent.com/nltk/nltk_data/gh-pages/packages/tokenizers/punkt.zip\")\n",
    "    print(\"and extract it to:\", os.path.join(nltk_data_dir, 'tokenizers'))\n",
    "except Exception as e:\n",
    "    print(\"An unexpected error occurred:\")\n",
    "    print(e)"
   ]
  },
  {
   "cell_type": "code",
   "execution_count": null,
   "metadata": {},
   "outputs": [],
   "source": []
  },
  {
   "cell_type": "code",
   "execution_count": null,
   "metadata": {},
   "outputs": [],
   "source": []
  }
 ],
 "metadata": {
  "kernelspec": {
   "display_name": "Python 3",
   "language": "python",
   "name": "python3"
  },
  "language_info": {
   "codemirror_mode": {
    "name": "ipython",
    "version": 3
   },
   "file_extension": ".py",
   "mimetype": "text/x-python",
   "name": "python",
   "nbconvert_exporter": "python",
   "pygments_lexer": "ipython3",
   "version": "3.12.7"
  }
 },
 "nbformat": 4,
 "nbformat_minor": 2
}
